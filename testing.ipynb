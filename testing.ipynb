{
 "cells": [
  {
   "cell_type": "code",
   "execution_count": 2,
   "metadata": {},
   "outputs": [],
   "source": [
    "import numpy as np\n",
    "import cv2\n",
    "import os\n",
    "from ultralytics import YOLO\n",
    "from statistics import mode"
   ]
  },
  {
   "cell_type": "code",
   "execution_count": 15,
   "metadata": {},
   "outputs": [],
   "source": [
    "model = YOLO(\"runs/detect/train7/weights/last.pt\")\n",
    "shape_score_dict = {\"circle\":20,\"square\":15,\"triangle\":10,\"cross\":5}\n",
    "images_dir = \"data/images/train/\"\n"
   ]
  },
  {
   "cell_type": "code",
   "execution_count": 9,
   "metadata": {},
   "outputs": [],
   "source": [
    "cap = cv2.VideoCapture(\"gst-launch-1.0 rtspsrc location=rtsp://192.168.1.103:8554/unicast latency=0 buffer-mode=auto ! decodebin ! videoconvert ! autovideosink\",cv2.CAP_GSTREAMER)"
   ]
  },
  {
   "cell_type": "code",
   "execution_count": 10,
   "metadata": {},
   "outputs": [],
   "source": [
    "ret, frame = cap.read()"
   ]
  },
  {
   "cell_type": "code",
   "execution_count": 12,
   "metadata": {},
   "outputs": [
    {
     "data": {
      "text/plain": [
       "False"
      ]
     },
     "execution_count": 12,
     "metadata": {},
     "output_type": "execute_result"
    }
   ],
   "source": [
    "ret"
   ]
  },
  {
   "cell_type": "code",
   "execution_count": 13,
   "metadata": {},
   "outputs": [],
   "source": [
    "while True:\n",
    "    ret, frame = cap.read()\n",
    "    if not ret:\n",
    "        break\n",
    "    cv2.imshow('frame',frame)\n",
    "    if cv2.waitKey(2)&0xff == ord('d'):\n",
    "        break\n",
    "cv2.destroyAllWindows()"
   ]
  },
  {
   "cell_type": "code",
   "execution_count": 16,
   "metadata": {},
   "outputs": [],
   "source": [
    "def calculate_score(results):\n",
    "    score = 0\n",
    "    shapes_conversion_dict = results.names\n",
    "    for obj in map(int,results.cpu().boxes.cls.int()):\n",
    "        obj = int(obj)\n",
    "        shape = shapes_conversion_dict[obj]\n",
    "        score += shape_score_dict[shape]\n",
    "    return score\n"
   ]
  },
  {
   "cell_type": "code",
   "execution_count": null,
   "metadata": {},
   "outputs": [],
   "source": [
    "rtsp = \"rtsp://192.168.1.102:8554/unicast\"\n",
    "cap = cv2.VideoCapture(0)\n",
    "scores = []\n",
    "while True:\n",
    "    ret, frame = cap.read()\n",
    "    results = model(frame,conf=0.5,show=False)\n",
    "    scores.append(calculate_score(results[0]))\n",
    "    if len(scores) == 50:\n",
    "        scores.pop(0)\n",
    "    score = np.median(scores)\n",
    "    img = results[0].plot(labels=False)\n",
    "    cv2.putText(img, f\"Score: {score}\", (10, 30), cv2.FONT_HERSHEY_SIMPLEX, 1, (0, 255, 0), 2, cv2.LINE_AA)\n",
    "    cv2.imshow('det',img)\n",
    "    if cv2.waitKey(1) == ord('d'):\n",
    "        break\n",
    "cv2.destroyAllWindows()\n",
    "cap.release()   "
   ]
  },
  {
   "cell_type": "code",
   "execution_count": 19,
   "metadata": {},
   "outputs": [
    {
     "name": "stderr",
     "output_type": "stream",
     "text": [
      "\n",
      "0: 1280x1248 7 crosss, 9 circles, 10 triangles, 7 squares, 61.8ms\n",
      "Speed: 13.9ms preprocess, 61.8ms inference, 1.1ms postprocess per image at shape (1, 3, 1280, 1248)\n",
      "\n",
      "0: 768x1280 8 crosss, 10 circles, 9 triangles, 8 squares, 38.0ms\n",
      "Speed: 5.2ms preprocess, 38.0ms inference, 1.5ms postprocess per image at shape (1, 3, 768, 1280)\n",
      "\n",
      "0: 768x1280 (no detections), 38.3ms\n",
      "Speed: 4.5ms preprocess, 38.3ms inference, 0.7ms postprocess per image at shape (1, 3, 768, 1280)\n",
      "\n",
      "0: 768x1280 7 crosss, 9 circles, 10 triangles, 7 squares, 37.4ms\n",
      "Speed: 4.7ms preprocess, 37.4ms inference, 1.1ms postprocess per image at shape (1, 3, 768, 1280)\n",
      "\n",
      "0: 768x1280 8 crosss, 10 circles, 9 triangles, 8 squares, 37.4ms\n",
      "Speed: 5.3ms preprocess, 37.4ms inference, 1.2ms postprocess per image at shape (1, 3, 768, 1280)\n",
      "\n",
      "0: 768x1280 8 crosss, 10 circles, 9 triangles, 8 squares, 44.5ms\n",
      "Speed: 4.8ms preprocess, 44.5ms inference, 1.3ms postprocess per image at shape (1, 3, 768, 1280)\n",
      "\n",
      "0: 768x1280 7 crosss, 9 circles, 10 triangles, 7 squares, 29.6ms\n",
      "Speed: 5.2ms preprocess, 29.6ms inference, 1.2ms postprocess per image at shape (1, 3, 768, 1280)\n",
      "\n",
      "0: 768x1280 8 crosss, 10 circles, 9 triangles, 8 squares, 43.9ms\n",
      "Speed: 5.8ms preprocess, 43.9ms inference, 1.3ms postprocess per image at shape (1, 3, 768, 1280)\n",
      "\n",
      "0: 768x1280 (no detections), 37.1ms\n",
      "Speed: 4.9ms preprocess, 37.1ms inference, 0.9ms postprocess per image at shape (1, 3, 768, 1280)\n",
      "\n",
      "0: 768x1280 8 crosss, 10 circles, 9 triangles, 8 squares, 29.2ms\n",
      "Speed: 4.4ms preprocess, 29.2ms inference, 1.5ms postprocess per image at shape (1, 3, 768, 1280)\n",
      "\n",
      "0: 768x1280 7 crosss, 9 circles, 10 triangles, 7 squares, 36.5ms\n",
      "Speed: 4.6ms preprocess, 36.5ms inference, 2.1ms postprocess per image at shape (1, 3, 768, 1280)\n",
      "\n",
      "0: 768x1280 7 crosss, 9 circles, 10 triangles, 7 squares, 37.5ms\n",
      "Speed: 4.9ms preprocess, 37.5ms inference, 1.3ms postprocess per image at shape (1, 3, 768, 1280)\n",
      "\n",
      "0: 768x1280 8 crosss, 10 circles, 9 triangles, 8 squares, 44.4ms\n",
      "Speed: 4.5ms preprocess, 44.4ms inference, 1.7ms postprocess per image at shape (1, 3, 768, 1280)\n",
      "\n",
      "0: 768x1280 (no detections), 29.0ms\n",
      "Speed: 4.9ms preprocess, 29.0ms inference, 0.7ms postprocess per image at shape (1, 3, 768, 1280)\n",
      "\n",
      "0: 768x1280 8 crosss, 10 circles, 9 triangles, 7 squares, 36.9ms\n",
      "Speed: 4.9ms preprocess, 36.9ms inference, 1.4ms postprocess per image at shape (1, 3, 768, 1280)\n",
      "\n",
      "0: 768x1280 8 crosss, 10 circles, 9 triangles, 8 squares, 29.7ms\n",
      "Speed: 4.9ms preprocess, 29.7ms inference, 1.1ms postprocess per image at shape (1, 3, 768, 1280)\n",
      "\n",
      "0: 768x1280 7 crosss, 9 circles, 10 triangles, 7 squares, 38.3ms\n",
      "Speed: 4.4ms preprocess, 38.3ms inference, 1.2ms postprocess per image at shape (1, 3, 768, 1280)\n",
      "\n",
      "0: 768x1280 8 crosss, 10 circles, 8 triangles, 4 squares, 30.7ms\n",
      "Speed: 5.5ms preprocess, 30.7ms inference, 1.7ms postprocess per image at shape (1, 3, 768, 1280)\n",
      "\n",
      "0: 768x1280 8 crosss, 10 circles, 9 triangles, 8 squares, 37.6ms\n",
      "Speed: 4.8ms preprocess, 37.6ms inference, 1.1ms postprocess per image at shape (1, 3, 768, 1280)\n",
      "\n",
      "0: 768x1280 8 crosss, 10 circles, 9 triangles, 8 squares, 36.1ms\n",
      "Speed: 5.8ms preprocess, 36.1ms inference, 1.3ms postprocess per image at shape (1, 3, 768, 1280)\n",
      "\n",
      "0: 768x1280 7 crosss, 9 circles, 10 triangles, 7 squares, 36.1ms\n",
      "Speed: 4.9ms preprocess, 36.1ms inference, 1.6ms postprocess per image at shape (1, 3, 768, 1280)\n",
      "\n",
      "0: 768x1280 8 crosss, 10 circles, 10 triangles, 7 squares, 36.5ms\n",
      "Speed: 4.7ms preprocess, 36.5ms inference, 1.2ms postprocess per image at shape (1, 3, 768, 1280)\n",
      "\n",
      "0: 768x1280 8 crosss, 10 circles, 9 triangles, 8 squares, 43.3ms\n",
      "Speed: 4.6ms preprocess, 43.3ms inference, 1.2ms postprocess per image at shape (1, 3, 768, 1280)\n",
      "\n",
      "0: 768x1280 8 crosss, 10 circles, 8 triangles, 8 squares, 37.0ms\n",
      "Speed: 5.0ms preprocess, 37.0ms inference, 1.2ms postprocess per image at shape (1, 3, 768, 1280)\n",
      "\n",
      "0: 768x1280 7 crosss, 9 circles, 10 triangles, 6 squares, 43.1ms\n",
      "Speed: 4.5ms preprocess, 43.1ms inference, 1.6ms postprocess per image at shape (1, 3, 768, 1280)\n",
      "\n",
      "0: 768x1280 8 crosss, 10 circles, 12 triangles, 8 squares, 37.2ms\n",
      "Speed: 4.6ms preprocess, 37.2ms inference, 1.3ms postprocess per image at shape (1, 3, 768, 1280)\n",
      "\n",
      "0: 768x1280 8 crosss, 10 circles, 9 triangles, 8 squares, 36.2ms\n",
      "Speed: 4.5ms preprocess, 36.2ms inference, 1.3ms postprocess per image at shape (1, 3, 768, 1280)\n",
      "\n",
      "0: 768x1280 7 crosss, 9 circles, 10 triangles, 7 squares, 36.3ms\n",
      "Speed: 4.6ms preprocess, 36.3ms inference, 1.2ms postprocess per image at shape (1, 3, 768, 1280)\n",
      "\n",
      "0: 768x1280 8 crosss, 12 circles, 8 triangles, 8 squares, 36.1ms\n",
      "Speed: 4.5ms preprocess, 36.1ms inference, 1.6ms postprocess per image at shape (1, 3, 768, 1280)\n",
      "\n",
      "0: 640x1280 8 crosss, 9 circles, 10 triangles, 7 squares, 28.7ms\n",
      "Speed: 4.3ms preprocess, 28.7ms inference, 0.8ms postprocess per image at shape (1, 3, 640, 1280)\n",
      "\n",
      "0: 768x1280 (no detections), 37.9ms\n",
      "Speed: 5.5ms preprocess, 37.9ms inference, 0.8ms postprocess per image at shape (1, 3, 768, 1280)\n",
      "\n",
      "0: 768x1280 (no detections), 29.9ms\n",
      "Speed: 4.8ms preprocess, 29.9ms inference, 1.0ms postprocess per image at shape (1, 3, 768, 1280)\n",
      "\n",
      "0: 768x1280 8 crosss, 10 circles, 9 triangles, 8 squares, 30.1ms\n",
      "Speed: 5.2ms preprocess, 30.1ms inference, 1.4ms postprocess per image at shape (1, 3, 768, 1280)\n",
      "\n",
      "0: 768x1280 8 crosss, 10 circles, 9 triangles, 5 squares, 36.5ms\n",
      "Speed: 5.4ms preprocess, 36.5ms inference, 1.3ms postprocess per image at shape (1, 3, 768, 1280)\n",
      "\n",
      "0: 768x1280 8 crosss, 10 circles, 9 triangles, 8 squares, 29.9ms\n",
      "Speed: 4.7ms preprocess, 29.9ms inference, 1.4ms postprocess per image at shape (1, 3, 768, 1280)\n",
      "\n",
      "0: 768x1280 (no detections), 29.1ms\n",
      "Speed: 4.2ms preprocess, 29.1ms inference, 0.8ms postprocess per image at shape (1, 3, 768, 1280)\n",
      "\n",
      "0: 768x1280 8 crosss, 10 circles, 10 triangles, 8 squares, 37.5ms\n",
      "Speed: 5.2ms preprocess, 37.5ms inference, 1.4ms postprocess per image at shape (1, 3, 768, 1280)\n",
      "\n",
      "0: 768x1280 8 crosss, 10 circles, 9 triangles, 8 squares, 35.7ms\n",
      "Speed: 4.4ms preprocess, 35.7ms inference, 1.7ms postprocess per image at shape (1, 3, 768, 1280)\n",
      "\n",
      "0: 768x1280 8 crosss, 10 circles, 9 triangles, 8 squares, 28.6ms\n",
      "Speed: 4.9ms preprocess, 28.6ms inference, 1.1ms postprocess per image at shape (1, 3, 768, 1280)\n",
      "\n",
      "0: 768x1280 8 crosss, 9 circles, 9 triangles, 8 squares, 37.1ms\n",
      "Speed: 4.7ms preprocess, 37.1ms inference, 1.2ms postprocess per image at shape (1, 3, 768, 1280)\n",
      "\n",
      "0: 768x1280 (no detections), 28.9ms\n",
      "Speed: 4.5ms preprocess, 28.9ms inference, 0.8ms postprocess per image at shape (1, 3, 768, 1280)\n",
      "\n",
      "0: 768x1280 8 crosss, 10 circles, 9 triangles, 8 squares, 43.8ms\n",
      "Speed: 4.2ms preprocess, 43.8ms inference, 1.2ms postprocess per image at shape (1, 3, 768, 1280)\n",
      "\n",
      "0: 768x1280 8 crosss, 10 circles, 9 triangles, 8 squares, 36.8ms\n",
      "Speed: 4.5ms preprocess, 36.8ms inference, 1.1ms postprocess per image at shape (1, 3, 768, 1280)\n",
      "\n",
      "0: 768x1280 7 crosss, 9 circles, 11 triangles, 7 squares, 29.1ms\n",
      "Speed: 4.1ms preprocess, 29.1ms inference, 1.4ms postprocess per image at shape (1, 3, 768, 1280)\n",
      "\n",
      "0: 768x1280 8 crosss, 10 circles, 9 triangles, 8 squares, 35.8ms\n",
      "Speed: 4.4ms preprocess, 35.8ms inference, 1.4ms postprocess per image at shape (1, 3, 768, 1280)\n",
      "\n",
      "0: 768x1280 8 crosss, 10 circles, 9 triangles, 8 squares, 29.7ms\n",
      "Speed: 5.2ms preprocess, 29.7ms inference, 1.0ms postprocess per image at shape (1, 3, 768, 1280)\n",
      "\n",
      "0: 768x1280 8 crosss, 10 circles, 9 triangles, 8 squares, 36.0ms\n",
      "Speed: 4.8ms preprocess, 36.0ms inference, 1.2ms postprocess per image at shape (1, 3, 768, 1280)\n",
      "\n",
      "0: 768x1280 8 crosss, 10 circles, 9 triangles, 8 squares, 35.8ms\n",
      "Speed: 4.3ms preprocess, 35.8ms inference, 1.2ms postprocess per image at shape (1, 3, 768, 1280)\n",
      "\n",
      "0: 768x1280 8 crosss, 10 circles, 9 triangles, 8 squares, 38.6ms\n",
      "Speed: 5.0ms preprocess, 38.6ms inference, 1.0ms postprocess per image at shape (1, 3, 768, 1280)\n",
      "\n",
      "0: 768x1280 8 crosss, 10 circles, 10 triangles, 8 squares, 36.5ms\n",
      "Speed: 5.3ms preprocess, 36.5ms inference, 1.6ms postprocess per image at shape (1, 3, 768, 1280)\n",
      "\n",
      "0: 768x1280 8 crosss, 10 circles, 9 triangles, 8 squares, 29.7ms\n",
      "Speed: 4.6ms preprocess, 29.7ms inference, 1.4ms postprocess per image at shape (1, 3, 768, 1280)\n",
      "\n",
      "0: 768x1280 5 crosss, 7 circles, 9 triangles, 6 squares, 29.9ms\n",
      "Speed: 4.5ms preprocess, 29.9ms inference, 1.1ms postprocess per image at shape (1, 3, 768, 1280)\n",
      "\n",
      "0: 768x1280 5 crosss, 7 circles, 5 triangles, 5 squares, 35.9ms\n",
      "Speed: 4.1ms preprocess, 35.9ms inference, 1.2ms postprocess per image at shape (1, 3, 768, 1280)\n",
      "\n",
      "0: 768x1280 (no detections), 29.9ms\n",
      "Speed: 5.2ms preprocess, 29.9ms inference, 0.6ms postprocess per image at shape (1, 3, 768, 1280)\n",
      "\n",
      "0: 768x1280 8 crosss, 10 circles, 9 triangles, 8 squares, 36.5ms\n",
      "Speed: 4.9ms preprocess, 36.5ms inference, 1.2ms postprocess per image at shape (1, 3, 768, 1280)\n",
      "\n",
      "0: 768x1280 7 crosss, 9 circles, 12 triangles, 7 squares, 37.0ms\n",
      "Speed: 4.6ms preprocess, 37.0ms inference, 1.1ms postprocess per image at shape (1, 3, 768, 1280)\n",
      "\n",
      "0: 768x1280 7 crosss, 9 circles, 10 triangles, 7 squares, 39.9ms\n",
      "Speed: 5.6ms preprocess, 39.9ms inference, 1.1ms postprocess per image at shape (1, 3, 768, 1280)\n",
      "\n",
      "0: 1024x1280 45 crosss, 39 circles, 43 triangles, 42 squares, 38.3ms\n",
      "Speed: 5.7ms preprocess, 38.3ms inference, 1.0ms postprocess per image at shape (1, 3, 1024, 1280)\n",
      "\n",
      "0: 768x1280 8 crosss, 12 circles, 8 triangles, 1 square, 39.5ms\n",
      "Speed: 4.5ms preprocess, 39.5ms inference, 0.9ms postprocess per image at shape (1, 3, 768, 1280)\n",
      "\n",
      "0: 768x1280 8 crosss, 10 circles, 9 triangles, 8 squares, 33.6ms\n",
      "Speed: 4.6ms preprocess, 33.6ms inference, 1.1ms postprocess per image at shape (1, 3, 768, 1280)\n",
      "\n",
      "0: 768x1280 8 crosss, 9 circles, 9 triangles, 7 squares, 30.1ms\n",
      "Speed: 4.7ms preprocess, 30.1ms inference, 1.1ms postprocess per image at shape (1, 3, 768, 1280)\n",
      "\n",
      "0: 768x1280 7 crosss, 9 circles, 10 triangles, 7 squares, 36.1ms\n",
      "Speed: 5.0ms preprocess, 36.1ms inference, 1.1ms postprocess per image at shape (1, 3, 768, 1280)\n",
      "\n",
      "0: 768x1280 7 crosss, 9 circles, 10 triangles, 7 squares, 37.7ms\n",
      "Speed: 5.1ms preprocess, 37.7ms inference, 1.6ms postprocess per image at shape (1, 3, 768, 1280)\n",
      "\n",
      "0: 768x1280 (no detections), 36.4ms\n",
      "Speed: 4.1ms preprocess, 36.4ms inference, 0.8ms postprocess per image at shape (1, 3, 768, 1280)\n",
      "\n",
      "0: 1280x1280 4 crosss, 6 circles, 4 triangles, 4 squares, 46.7ms\n",
      "Speed: 5.9ms preprocess, 46.7ms inference, 0.8ms postprocess per image at shape (1, 3, 1280, 1280)\n",
      "\n",
      "0: 768x1280 8 crosss, 10 circles, 9 triangles, 8 squares, 33.9ms\n",
      "Speed: 4.7ms preprocess, 33.9ms inference, 0.9ms postprocess per image at shape (1, 3, 768, 1280)\n",
      "\n",
      "0: 768x1280 8 crosss, 10 circles, 9 triangles, 8 squares, 40.9ms\n",
      "Speed: 4.7ms preprocess, 40.9ms inference, 1.1ms postprocess per image at shape (1, 3, 768, 1280)\n",
      "\n",
      "0: 768x1280 8 crosss, 10 circles, 10 triangles, 7 squares, 37.7ms\n",
      "Speed: 4.6ms preprocess, 37.7ms inference, 1.7ms postprocess per image at shape (1, 3, 768, 1280)\n"
     ]
    }
   ],
   "source": [
    "for img_name in os.listdir(images_dir):\n",
    "    img_path = os.path.join(images_dir,img_name)\n",
    "    img = cv2.imread(img_path)\n",
    "    img = model(img,conf=0.5,show=False)[0].plot(labels=False)\n",
    "    cv2.imshow('det',img)\n",
    "    if cv2.waitKey(0)&0xff == ord('d'):\n",
    "        break\n",
    "cv2.destroyAllWindows()"
   ]
  },
  {
   "cell_type": "code",
   "execution_count": 13,
   "metadata": {},
   "outputs": [
    {
     "name": "stderr",
     "output_type": "stream",
     "text": [
      "[ WARN:0@358.461] global loadsave.cpp:248 findDecoder imread_('shapes_pics/1.jpg'): can't open/read file: check file path/integrity\n"
     ]
    },
    {
     "ename": "error",
     "evalue": "OpenCV(4.8.0) /io/opencv/modules/imgcodecs/src/loadsave.cpp:787: error: (-215:Assertion failed) !_img.empty() in function 'imwrite'\n",
     "output_type": "error",
     "traceback": [
      "\u001b[0;31m---------------------------------------------------------------------------\u001b[0m",
      "\u001b[0;31merror\u001b[0m                                     Traceback (most recent call last)",
      "\u001b[1;32m/home/omarabdelgawad/my_workspace/projects/ROV_work/shapes_task/testing.ipynb Cell 8\u001b[0m line \u001b[0;36m5\n\u001b[1;32m      <a href='vscode-notebook-cell:/home/omarabdelgawad/my_workspace/projects/ROV_work/shapes_task/testing.ipynb#X12sZmlsZQ%3D%3D?line=2'>3</a>\u001b[0m     img \u001b[39m=\u001b[39m cv2\u001b[39m.\u001b[39mimread(img_path)\n\u001b[1;32m      <a href='vscode-notebook-cell:/home/omarabdelgawad/my_workspace/projects/ROV_work/shapes_task/testing.ipynb#X12sZmlsZQ%3D%3D?line=3'>4</a>\u001b[0m     orig \u001b[39m=\u001b[39m np\u001b[39m.\u001b[39marray(img)\n\u001b[0;32m----> <a href='vscode-notebook-cell:/home/omarabdelgawad/my_workspace/projects/ROV_work/shapes_task/testing.ipynb#X12sZmlsZQ%3D%3D?line=4'>5</a>\u001b[0m     cv2\u001b[39m.\u001b[39;49mimwrite(os\u001b[39m.\u001b[39;49mpath\u001b[39m.\u001b[39;49mjoin(\u001b[39m\"\u001b[39;49m\u001b[39mout\u001b[39;49m\u001b[39m\"\u001b[39;49m,img_name),img)\n\u001b[1;32m      <a href='vscode-notebook-cell:/home/omarabdelgawad/my_workspace/projects/ROV_work/shapes_task/testing.ipynb#X12sZmlsZQ%3D%3D?line=5'>6</a>\u001b[0m     \u001b[39m# img = black_detection(img)\u001b[39;00m\n\u001b[1;32m      <a href='vscode-notebook-cell:/home/omarabdelgawad/my_workspace/projects/ROV_work/shapes_task/testing.ipynb#X12sZmlsZQ%3D%3D?line=6'>7</a>\u001b[0m \u001b[39m#     cv2.imshow('orig',cv2.resize(orig,None,fx=0.5,fy=0.5))\u001b[39;00m\n\u001b[1;32m      <a href='vscode-notebook-cell:/home/omarabdelgawad/my_workspace/projects/ROV_work/shapes_task/testing.ipynb#X12sZmlsZQ%3D%3D?line=7'>8</a>\u001b[0m \u001b[39m#     # cv2.imshow('img',cv2.resize(img,None,fx=0.5,fy=0.5))\u001b[39;00m\n\u001b[1;32m      <a href='vscode-notebook-cell:/home/omarabdelgawad/my_workspace/projects/ROV_work/shapes_task/testing.ipynb#X12sZmlsZQ%3D%3D?line=8'>9</a>\u001b[0m \u001b[39m#     if cv2.waitKey(0)&0xff == ord('d'):\u001b[39;00m\n\u001b[1;32m     <a href='vscode-notebook-cell:/home/omarabdelgawad/my_workspace/projects/ROV_work/shapes_task/testing.ipynb#X12sZmlsZQ%3D%3D?line=9'>10</a>\u001b[0m \u001b[39m#         break\u001b[39;00m\n\u001b[1;32m     <a href='vscode-notebook-cell:/home/omarabdelgawad/my_workspace/projects/ROV_work/shapes_task/testing.ipynb#X12sZmlsZQ%3D%3D?line=10'>11</a>\u001b[0m \u001b[39m# cv2.destroyAllWindows()\u001b[39;00m\n",
      "\u001b[0;31merror\u001b[0m: OpenCV(4.8.0) /io/opencv/modules/imgcodecs/src/loadsave.cpp:787: error: (-215:Assertion failed) !_img.empty() in function 'imwrite'\n"
     ]
    }
   ],
   "source": [
    "def crop_images():\n",
    "    for img_name in os.listdir(images_dir):\n",
    "        img_path = os.path.join(\"shapes_pics\",img_name)\n",
    "        img = cv2.imread(img_path)\n",
    "        orig = np.array(img)\n",
    "        cv2.imwrite(os.path.join(\"out\",img_name),img)\n",
    "        # img = black_detection(img)\n",
    "    #     cv2.imshow('orig',cv2.resize(orig,None,fx=0.5,fy=0.5))\n",
    "    #     # cv2.imshow('img',cv2.resize(img,None,fx=0.5,fy=0.5))\n",
    "    #     if cv2.waitKey(0)&0xff == ord('d'):\n",
    "    #         break\n",
    "    # cv2.destroyAllWindows()\n",
    "# crop_images()"
   ]
  },
  {
   "cell_type": "code",
   "execution_count": 20,
   "metadata": {},
   "outputs": [],
   "source": [
    "# don't use this function\n",
    "def black_detection(img):\n",
    "    hsv = cv2.cvtColor(img, cv2.COLOR_BGR2HLS)\n",
    "    lower_black = np.array([0, 0, 0], dtype=np.uint8)\n",
    "    upper_black = np.array([255, 200, 255], dtype=np.uint8)\n",
    "    black_mask = cv2.inRange(hsv, lower_black, upper_black)\n",
    "    # black_detected = cv2.bitwise_and(img, img, mask=black_mask)\n",
    "    return black_mask"
   ]
  },
  {
   "cell_type": "code",
   "execution_count": 22,
   "metadata": {},
   "outputs": [
    {
     "name": "stderr",
     "output_type": "stream",
     "text": [
      "[tcp @ 0x55bfeb822b00] Connection to tcp://10.10.221.34:8080 failed: No route to host\n",
      "[ERROR:0@1004.016] global cap.cpp:164 open VIDEOIO(CV_IMAGES): raised OpenCV exception:\n",
      "\n",
      "OpenCV(4.8.0) /io/opencv/modules/videoio/src/cap_images.cpp:253: error: (-5:Bad argument) CAP_IMAGES: can't find starting number (in the name of file): https://10.10.221.34:8080/unicast in function 'icvExtractPattern'\n",
      "\n",
      "\n"
     ]
    },
    {
     "ename": "error",
     "evalue": "OpenCV(4.8.0) /io/opencv/modules/imgproc/src/color.cpp:182: error: (-215:Assertion failed) !_src.empty() in function 'cvtColor'\n",
     "output_type": "error",
     "traceback": [
      "\u001b[0;31m---------------------------------------------------------------------------\u001b[0m",
      "\u001b[0;31merror\u001b[0m                                     Traceback (most recent call last)",
      "\u001b[1;32m/home/omarabdelgawad/my_workspace/projects/ROV_work/shapes_task/testing.ipynb Cell 10\u001b[0m line \u001b[0;36m5\n\u001b[1;32m      <a href='vscode-notebook-cell:/home/omarabdelgawad/my_workspace/projects/ROV_work/shapes_task/testing.ipynb#X10sZmlsZQ%3D%3D?line=2'>3</a>\u001b[0m \u001b[39mwhile\u001b[39;00m \u001b[39mTrue\u001b[39;00m:\n\u001b[1;32m      <a href='vscode-notebook-cell:/home/omarabdelgawad/my_workspace/projects/ROV_work/shapes_task/testing.ipynb#X10sZmlsZQ%3D%3D?line=3'>4</a>\u001b[0m     ret, frame \u001b[39m=\u001b[39m cap\u001b[39m.\u001b[39mread()\n\u001b[0;32m----> <a href='vscode-notebook-cell:/home/omarabdelgawad/my_workspace/projects/ROV_work/shapes_task/testing.ipynb#X10sZmlsZQ%3D%3D?line=4'>5</a>\u001b[0m     frame \u001b[39m=\u001b[39m black_detection(frame)\n\u001b[1;32m      <a href='vscode-notebook-cell:/home/omarabdelgawad/my_workspace/projects/ROV_work/shapes_task/testing.ipynb#X10sZmlsZQ%3D%3D?line=5'>6</a>\u001b[0m     cv2\u001b[39m.\u001b[39mimshow(\u001b[39m'\u001b[39m\u001b[39mdet\u001b[39m\u001b[39m'\u001b[39m,frame)\n\u001b[1;32m      <a href='vscode-notebook-cell:/home/omarabdelgawad/my_workspace/projects/ROV_work/shapes_task/testing.ipynb#X10sZmlsZQ%3D%3D?line=6'>7</a>\u001b[0m     \u001b[39mif\u001b[39;00m cv2\u001b[39m.\u001b[39mwaitKey(\u001b[39m1\u001b[39m) \u001b[39m==\u001b[39m \u001b[39mord\u001b[39m(\u001b[39m'\u001b[39m\u001b[39md\u001b[39m\u001b[39m'\u001b[39m):\n",
      "\u001b[1;32m/home/omarabdelgawad/my_workspace/projects/ROV_work/shapes_task/testing.ipynb Cell 10\u001b[0m line \u001b[0;36m2\n\u001b[1;32m      <a href='vscode-notebook-cell:/home/omarabdelgawad/my_workspace/projects/ROV_work/shapes_task/testing.ipynb#X10sZmlsZQ%3D%3D?line=0'>1</a>\u001b[0m \u001b[39mdef\u001b[39;00m \u001b[39mblack_detection\u001b[39m(img):\n\u001b[0;32m----> <a href='vscode-notebook-cell:/home/omarabdelgawad/my_workspace/projects/ROV_work/shapes_task/testing.ipynb#X10sZmlsZQ%3D%3D?line=1'>2</a>\u001b[0m     hsv \u001b[39m=\u001b[39m cv2\u001b[39m.\u001b[39;49mcvtColor(img, cv2\u001b[39m.\u001b[39;49mCOLOR_BGR2HLS)\n\u001b[1;32m      <a href='vscode-notebook-cell:/home/omarabdelgawad/my_workspace/projects/ROV_work/shapes_task/testing.ipynb#X10sZmlsZQ%3D%3D?line=2'>3</a>\u001b[0m     lower_black \u001b[39m=\u001b[39m np\u001b[39m.\u001b[39marray([\u001b[39m0\u001b[39m, \u001b[39m0\u001b[39m, \u001b[39m0\u001b[39m], dtype\u001b[39m=\u001b[39mnp\u001b[39m.\u001b[39muint8)\n\u001b[1;32m      <a href='vscode-notebook-cell:/home/omarabdelgawad/my_workspace/projects/ROV_work/shapes_task/testing.ipynb#X10sZmlsZQ%3D%3D?line=3'>4</a>\u001b[0m     upper_black \u001b[39m=\u001b[39m np\u001b[39m.\u001b[39marray([\u001b[39m255\u001b[39m, \u001b[39m200\u001b[39m, \u001b[39m255\u001b[39m], dtype\u001b[39m=\u001b[39mnp\u001b[39m.\u001b[39muint8)\n",
      "\u001b[0;31merror\u001b[0m: OpenCV(4.8.0) /io/opencv/modules/imgproc/src/color.cpp:182: error: (-215:Assertion failed) !_src.empty() in function 'cvtColor'\n"
     ]
    }
   ],
   "source": [
    "# capture atef's mobile video stream\n",
    "cap = cv2.VideoCapture(\"rtsp://:8080/unicast\")\n",
    "while True:\n",
    "    ret, frame = cap.read()\n",
    "    frame = black_detection(frame)\n",
    "    cv2.imshow('det',frame)\n",
    "    if cv2.waitKey(1) == ord('d'):\n",
    "        break\n",
    "cv2.destroyAllWindows()\n",
    "cap.release()   "
   ]
  }
 ],
 "metadata": {
  "kernelspec": {
   "display_name": "Python 3",
   "language": "python",
   "name": "python3"
  },
  "language_info": {
   "codemirror_mode": {
    "name": "ipython",
    "version": 3
   },
   "file_extension": ".py",
   "mimetype": "text/x-python",
   "name": "python",
   "nbconvert_exporter": "python",
   "pygments_lexer": "ipython3",
   "version": "3.10.12"
  },
  "orig_nbformat": 4
 },
 "nbformat": 4,
 "nbformat_minor": 2
}
